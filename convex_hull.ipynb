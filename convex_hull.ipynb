{
 "cells": [
  {
   "cell_type": "code",
   "execution_count": 1,
   "id": "8d3b53b3",
   "metadata": {},
   "outputs": [],
   "source": [
    "import numpy as np\n",
    "import matplotlib.pyplot as plt"
   ]
  },
  {
   "cell_type": "code",
   "execution_count": 2,
   "id": "727ad28f",
   "metadata": {},
   "outputs": [],
   "source": [
    "class convex_hull():\n",
    "    \n",
    "    def __init__(self, dataset, delta):\n",
    "        self.data = dataset           # shape N x dim\n",
    "        self.hull_pts = []            # initialized as an empty list\n",
    "        self.delta = delta            # del theta = 1 degree\n",
    "        \n",
    "        \n",
    "    def compute_convex_hull(self):         # O(nh)\n",
    "        \n",
    "        highest_pt = self.data[list(self.data[:,1]).index(np.max(self.data[:,1])), :]\n",
    "        # append this first highest pt to the list of points in the convex hull\n",
    "        self.hull_pts.append(highest_pt)\n",
    "        next_highest = highest_pt\n",
    "        \n",
    "        count = 0\n",
    "        cumulative_theta = 0                     # cumulative rotation angle of the whole figure!\n",
    "        \n",
    "        # non_hull_mask = non_hull_mask * ((dataset[:,0] != highest_pt[0]) + (dataset[:,1] != highest_pt[1]))\n",
    "        not_hull_mask = (np.ones(len(self.data)) == 1) \n",
    "        not_hull_mask *= ((self.data[:,0] != highest_pt[0]) + (self.data[:,1] != highest_pt[1]))\n",
    "        \n",
    "        # Initial rotation matrix is initialized to the identity matrix! (Zero rotation)\n",
    "        R = np.array([[1, 0], \n",
    "                      [0, 1]])\n",
    "        \n",
    "        while cumulative_theta < 2*np.pi:               # stops when cum_theta == 2pi\n",
    "            \n",
    "            count = 0                            # initializing the count variable to 0\n",
    "            val = False\n",
    "            \n",
    "            while val == False:\n",
    "                \n",
    "                # 1. Rotate points by a fixed amount\n",
    "                rotated_pts = self.data @ R\n",
    "                \n",
    "                # 2. New max Y value\n",
    "                maxY = np.max(rotated_pts[:,1])                \n",
    "                \n",
    "                # 3. Calculate new highest point using this highest Y coordinate value\n",
    "                next_highest = rotated_pts[list(rotated_pts[:,1]).index(maxY), :]\n",
    "                \n",
    "                # 4. Inverse rotate the highest point to check if it is still equivalent to the unrotated highest pt\n",
    "                R_inv = np.array([[np.cos(cum_theta+count*self.delta), -np.sin(cum_theta+count*self.delta)],\n",
    "                                  [np.sin(cum_theta+count*self.delta),  np.cos(cum_theta+count*self.delta)]])\n",
    "                next_highest = next_highest @ R_inv\n",
    "                \n",
    "                # 5. Increase the argument of the R matrix by one more self.del increment and try again\n",
    "                count += 1\n",
    "                R = np.array([[ np.cos(cum_theta+count*self.delta), np.sin(cum_theta+count*self.delta)],\n",
    "                              [-np.sin(cum_theta+count*self.delta), np.cos(cum_theta+count*self.delta)]])\n",
    "                \n",
    "                # 6. Comparing next_highest and the highest_pt\n",
    "                n_h = np.array([round(next_highest[0], 5), round(next_highest[1], 5)])\n",
    "                h_p = np.array([round(highest_pt[0], 5), round(highest_pt[1], 5)])\n",
    "                diff = n_h - h_p\n",
    "                val = diff.any()\n",
    "                \n",
    "            # Having exited the while loop, we have the next_highest pt and the theta rotated by so far\n",
    "            # 7. update the cumulative rotation angle\n",
    "            cumulative_theta += count*self.delta\n",
    "            \n",
    "            # 8. Append the next pt to the list of hull_pts\n",
    "            highest_pt = next_highest\n",
    "            if ((abs(highest_pt[0]-self.hull_pts[0][0])<10**(-8)) and (abs(highest_pt[1]-self.hull_pts[0][1])<10**(-8))):\n",
    "                break                                         # BREAK from the outer while loop\n",
    "            else:\n",
    "                self.hull_pts.append(highest_pt)              # appending the new highest pt to the list\n",
    "                # 9. Updating the not_hull_mask!   {if the difference is really really small}\n",
    "                mask1 = (abs(self.data[:,0]-next_highest[0]) > 10**(-10))\n",
    "                mask2 = (abs(self.data[:,1]-next_highest[1]) > 10**(-10))\n",
    "                not_hull_mask = not_hull_mask * (mask1 + mask2)\n",
    "        \n",
    "        self.not_hull = [self.data[i] for i in range(len(self.data)) if not_hull_mask[i] == True]\n",
    "        \n",
    "    \n",
    "    \n",
    "    def plot_convex_hull(self):\n",
    "        \n",
    "        print('Number of data points: ', len(self.data))\n",
    "        print('Number of hull points: ', len(self.hull_pts))\n",
    "        print('Number of non-hull points: {}  ({} - {} = {})'.format(len(self.not_hull), len(self.data), len(self.hull_pts), len(self.data)-len(self.hull_pts)))\n",
    "        \n",
    "        # Appending the first point to the end to obtain a closed shape when plotting the outer hull!\n",
    "        self.hull_pts.append(self.hull_pts[0])\n",
    "        \n",
    "        # Converting both hull pts and non hull pts into np arrays\n",
    "        self.hull_pts = np.asarray(self.hull_pts).reshape(len(self.hull_pts), 2)\n",
    "        self.not_hull = np.asarray(self.not_hull).reshape(len(self.not_hull), 2)\n",
    "        \n",
    "        # Plotting the outer hull shape!\n",
    "        plt.figure(figsize=(8,8))\n",
    "        plt.plot(self.hull_pts[:,0], self.hull_pts[:,1], 'k', linewidth=1.75)\n",
    "        \n",
    "        # Plotting the hull data points\n",
    "        plt.scatter(self.hull_pts[:-1,0], self.hull_pts[:-1,1], s=50, c='b')\n",
    "        # Plotting the NON hull data points\n",
    "        plt.scatter(self.not_hull[:,0], self.not_hull[:,1], s=30, c='r', marker='x')\n",
    "        \n",
    "        plt.title('Convex hull of the given set of points')\n",
    "        plt.show()"
   ]
  },
  {
   "cell_type": "code",
   "execution_count": 3,
   "id": "880e1978",
   "metadata": {
    "scrolled": false
   },
   "outputs": [
    {
     "name": "stdout",
     "output_type": "stream",
     "text": [
      "shape of data:  (135, 2)\n"
     ]
    },
    {
     "data": {
      "image/png": "[encoded data removed]",
      "text/plain": [
       "<Figure size 288x288 with 1 Axes>"
      ]
     },
     "metadata": {
      "needs_background": "light"
     },
     "output_type": "display_data"
    },
    {
     "name": "stdout",
     "output_type": "stream",
     "text": [
      "Number of data points:  135\n",
      "Number of hull points:  13\n",
      "Number of non-hull points: 122  (135 - 13 = 122)\n"
     ]
    },
    {
     "data": {
      "image/png": "[encoded data removed]",
      "text/plain": [
       "<Figure size 576x576 with 1 Axes>"
      ]
     },
     "metadata": {
      "needs_background": "light"
     },
     "output_type": "display_data"
    }
   ],
   "source": [
    "# Creating a random dataset to test the function on!\n",
    "data = np.random.rand(135, 2)\n",
    "\n",
    "# Testing with uniformly gridded data!\n",
    "# x, y = np.meshgrid(np.arange(-0.3, 0.3, 0.1), np.arange(-0.3, 0.3, 0.1))\n",
    "# x = x.reshape(-1);    y = y.reshape(-1)\n",
    "# data = np.vstack((x, y)).T\n",
    "\n",
    "print('shape of data: ', data.shape)\n",
    "    \n",
    "# Plotting the random points\n",
    "plt.figure(figsize=(4,4))\n",
    "plt.title('A random set of test points')\n",
    "plt.scatter(data[:,0], data[:,1], s=25, c='b')\n",
    "plt.show()\n",
    "\n",
    "ch = convex_hull(data, np.pi/800)\n",
    "\n",
    "ch.compute_convex_hull()\n",
    "    \n",
    "ch.plot_convex_hull()"
   ]
  },
  {
   "cell_type": "code",
   "execution_count": null,
   "id": "970fdda0",
   "metadata": {},
   "outputs": [],
   "source": []
  },
  {
   "cell_type": "code",
   "execution_count": null,
   "id": "d1047124",
   "metadata": {},
   "outputs": [],
   "source": []
  },
  {
   "cell_type": "code",
   "execution_count": null,
   "id": "1c2bb2da",
   "metadata": {},
   "outputs": [],
   "source": []
  },
  {
   "cell_type": "code",
   "execution_count": null,
   "id": "96e84741",
   "metadata": {},
   "outputs": [],
   "source": []
  },
  {
   "cell_type": "code",
   "execution_count": null,
   "id": "483bd29f",
   "metadata": {},
   "outputs": [],
   "source": []
  }
 ],
 "metadata": {
  "kernelspec": {
   "display_name": "Python 3 (ipykernel)",
   "language": "python",
   "name": "python3"
  },
  "language_info": {
   "codemirror_mode": {
    "name": "ipython",
    "version": 3
   },
   "file_extension": ".py",
   "mimetype": "text/x-python",
   "name": "python",
   "nbconvert_exporter": "python",
   "pygments_lexer": "ipython3",
   "version": "3.9.12"
  }
 },
 "nbformat": 4,
 "nbformat_minor": 5
}
